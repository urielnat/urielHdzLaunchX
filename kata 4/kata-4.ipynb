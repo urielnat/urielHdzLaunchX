{
 "cells": [
  {
   "cell_type": "markdown",
   "metadata": {},
   "source": [
    "# Transformar cadenas"
   ]
  },
  {
   "cell_type": "markdown",
   "metadata": {},
   "source": [
    "## Ejercicio 1"
   ]
  },
  {
   "cell_type": "code",
   "execution_count": 18,
   "metadata": {},
   "outputs": [
    {
     "name": "stdout",
     "output_type": "stream",
     "text": [
      "encontro palabras clave en : \n",
      "on average, the moon moves 4cm away from the earth every year\n",
      "encontro palabras clave en : the highest daylight temperature of the moon is 127 c.\n",
      "\n",
      "Ejercicio 2\n",
      "Interesting facts about the moon. The moon is earth's only satellite. There are several interesting facts about the moon and how it affects life here on earth. \n",
      "on average, the moon moves 4cm away from the earth every year. This yearly drift is not significant enough to cause immediate effects on earth. The highest daylight temperature of the moon is 127 celcius. \n"
     ]
    }
   ],
   "source": [
    "text = \"\"\"Interesting facts about the Moon. The Moon is Earth's only satellite. There are several interesting facts about the Moon and how it affects life here on Earth. \n",
    "On average, the Moon moves 4cm away from the Earth every year. This yearly drift is not significant enough to cause immediate effects on Earth. The highest daylight temperature of the Moon is 127 C.\"\"\"\n",
    "\n",
    "oraciones = text.lower().split('. ')\n",
    "\n",
    "palabras_clave = ['average','temperature','distance']\n",
    "\n",
    "for texto in oraciones:\n",
    "    for palabra in palabras_clave:\n",
    "        if texto.find(palabra)>=0:\n",
    "            print('encontro palabras clave en : {0}'.format(texto) )\n",
    "\n",
    "\n",
    "print('\\nEjercicio 2')\n",
    "\n",
    "textoFinal = ''\n",
    "for texto in oraciones:\n",
    "    textoFinal += texto.replace('c.','Celcius').capitalize() + '. '\n",
    "\n",
    "print(textoFinal)\n"
   ]
  },
  {
   "cell_type": "markdown",
   "metadata": {},
   "source": [
    "## Ejercicio 2 Formateando Cadenas"
   ]
  },
  {
   "cell_type": "code",
   "execution_count": 25,
   "metadata": {},
   "outputs": [
    {
     "name": "stdout",
     "output_type": "stream",
     "text": [
      "Gravity Facts about Moon\n",
      "----------------------------------------\n",
      "Planet Name: Earth\n",
      "Gravity on Moon:  1.6199999999999999 m/s2\n",
      "\n",
      "\n",
      "Gravity Facts about Ganímedes\n",
      "----------------------------------------\n",
      "Planet Name: Marte \n",
      "Gravity on Ganímedes:  1.4300000000000002 m/s2\n"
     ]
    }
   ],
   "source": [
    "name = \"Moon\"\n",
    "gravity = 0.00162 # in kms\n",
    "planet = \"Earth\"\n",
    "\n",
    "titulo = f'Gravity Facts about {name}'\n",
    "datos = f\"\"\"Planet Name: {planet}\n",
    "Gravity on {name}:  {gravity*1000} m/s2\"\"\"\n",
    "\n",
    "informe = f\"\"\"{titulo}\n",
    "----------------------------------------\n",
    "{datos}\"\"\"\n",
    "\n",
    "print(informe)\n",
    "\n",
    "\n",
    "print('\\n')\n",
    "\n",
    "planet = 'Marte '\n",
    "gravity  = 0.00143\n",
    "name = 'Ganímedes'\n",
    "\n",
    "\n",
    "\n",
    "titulo = f'Gravity Facts about {name}'\n",
    "datos = \"\"\"Planet Name: {planet}\n",
    "Gravity on {name}:  {gravity} m/s2\"\"\".format(planet=planet,name=name,gravity =gravity*1000)\n",
    "\n",
    "informe = f\"\"\"{titulo}\n",
    "----------------------------------------\n",
    "{datos}\"\"\"\n",
    "\n",
    "print(informe)\n",
    "\n",
    "\n"
   ]
  }
 ],
 "metadata": {
  "interpreter": {
   "hash": "aee8b7b246df8f9039afb4144a1f6fd8d2ca17a180786b69acc140d282b71a49"
  },
  "kernelspec": {
   "display_name": "Python 3.10.2 64-bit",
   "language": "python",
   "name": "python3"
  },
  "language_info": {
   "codemirror_mode": {
    "name": "ipython",
    "version": 3
   },
   "file_extension": ".py",
   "mimetype": "text/x-python",
   "name": "python",
   "nbconvert_exporter": "python",
   "pygments_lexer": "ipython3",
   "version": "3.10.2"
  },
  "orig_nbformat": 4
 },
 "nbformat": 4,
 "nbformat_minor": 2
}
