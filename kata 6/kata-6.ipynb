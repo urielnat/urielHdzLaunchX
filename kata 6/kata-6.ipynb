{
 "cells": [
  {
   "cell_type": "markdown",
   "metadata": {},
   "source": [
    "# Ejercicio 1: Crear y usar listas de Python"
   ]
  },
  {
   "cell_type": "code",
   "execution_count": 3,
   "metadata": {},
   "outputs": [
    {
     "name": "stdout",
     "output_type": "stream",
     "text": [
      "['Mercurio', 'Venus', 'Tierra', 'Marte', 'Jupiter', 'Saturno', 'Urano', 'Neptuno', 'Plutón']\n",
      "En total existen:  9  planetas\n",
      "El último planeta es:  Plutón\n"
     ]
    }
   ],
   "source": [
    "planetas = ['Mercurio', 'Venus', 'Tierra', 'Marte', 'Jupiter','Saturno','Urano','Neptuno']\n",
    "planetas.append('Plutón')\n",
    "print(planetas)\n",
    "print('En total existen: ',len(planetas),' planetas')\n",
    "\n",
    "print('El último planeta es: ',planetas[-1])\n",
    "\n",
    "\n"
   ]
  },
  {
   "cell_type": "markdown",
   "metadata": {},
   "source": [
    "# Ejercicio 2: Trabajando con datos de una lista"
   ]
  },
  {
   "cell_type": "code",
   "execution_count": 2,
   "metadata": {},
   "outputs": [
    {
     "name": "stdout",
     "output_type": "stream",
     "text": [
      "Se encontro el planeta buscado en la posicion  2\n",
      "Planetas anteriores a este:  ['Mercurio', 'Venus']\n",
      "Planetas posteriores a este:  ['Marte', 'Jupiter', 'Saturno', 'Urano', 'Neptuno']\n"
     ]
    }
   ],
   "source": [
    "planetaBusqueda =input('Ingresa el nombre del planeta, empezando por mayuscula')\n",
    "planetas = ['Mercurio', 'Venus', 'Tierra', 'Marte', 'Jupiter','Saturno','Urano','Neptuno']\n",
    "\n",
    "try:\n",
    "    indice= planetas.index(planetaBusqueda)\n",
    "    print('Se encontro el planeta buscado en la posicion ',indice)\n",
    "    print('Planetas anteriores a este: ',planetas[0:indice])\n",
    "    print('Planetas posteriores a este: ',planetas[indice+1:])\n",
    "\n",
    "        \n",
    "except ValueError:\n",
    "    print('El planeta no existe')\n",
    "\n",
    "\n"
   ]
  }
 ],
 "metadata": {
  "interpreter": {
   "hash": "aee8b7b246df8f9039afb4144a1f6fd8d2ca17a180786b69acc140d282b71a49"
  },
  "kernelspec": {
   "display_name": "Python 3.10.2 64-bit",
   "language": "python",
   "name": "python3"
  },
  "language_info": {
   "codemirror_mode": {
    "name": "ipython",
    "version": 3
   },
   "file_extension": ".py",
   "mimetype": "text/x-python",
   "name": "python",
   "nbconvert_exporter": "python",
   "pygments_lexer": "ipython3",
   "version": "3.10.2"
  },
  "orig_nbformat": 4
 },
 "nbformat": 4,
 "nbformat_minor": 2
}
