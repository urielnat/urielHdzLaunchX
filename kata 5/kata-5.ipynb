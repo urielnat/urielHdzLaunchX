{
 "cells": [
  {
   "cell_type": "markdown",
   "metadata": {},
   "source": [
    "# Ejercicio 1 - Utilizar operadores aritméticos"
   ]
  },
  {
   "cell_type": "code",
   "execution_count": 3,
   "metadata": {},
   "outputs": [
    {
     "name": "stdout",
     "output_type": "stream",
     "text": [
      "La distancia total es: 628949330\n",
      "La distancia en millas es: 390577534\n"
     ]
    }
   ],
   "source": [
    "Tierra = 149597870  \n",
    "Júpiter = 778547200 \n",
    "\n",
    "print(f'La distancia total es: {abs(Tierra - Júpiter)}'  )\n",
    "print(f'La distancia en millas es: {round(abs(Tierra - Júpiter)*.621)}'  )\n"
   ]
  },
  {
   "cell_type": "markdown",
   "metadata": {},
   "source": [
    "# Ejercicio 2 - convertir cadenas en números y usa valores absolutos"
   ]
  },
  {
   "cell_type": "code",
   "execution_count": 5,
   "metadata": {},
   "outputs": [
    {
     "name": "stdout",
     "output_type": "stream",
     "text": [
      "La distancia entre ambos planetas es: 1\n",
      "La distancia entre ambos planetas en millas es: 0.621\n"
     ]
    }
   ],
   "source": [
    "planeta1 = int(input('Ingresa el valor del primer planeta'))\n",
    "planeta2 = int(input('Ingresa el valor del segundo planeta'))\n",
    "\n",
    "valorAbsoluto = abs(planeta1 - planeta2)\n",
    "\n",
    "print(f'La distancia entre ambos planetas es: {valorAbsoluto}')\n",
    "print(f'La distancia entre ambos planetas en millas es: {valorAbsoluto * .621}')\n",
    "\n"
   ]
  }
 ],
 "metadata": {
  "interpreter": {
   "hash": "aee8b7b246df8f9039afb4144a1f6fd8d2ca17a180786b69acc140d282b71a49"
  },
  "kernelspec": {
   "display_name": "Python 3.10.2 64-bit",
   "language": "python",
   "name": "python3"
  },
  "language_info": {
   "codemirror_mode": {
    "name": "ipython",
    "version": 3
   },
   "file_extension": ".py",
   "mimetype": "text/x-python",
   "name": "python",
   "nbconvert_exporter": "python",
   "pygments_lexer": "ipython3",
   "version": "3.10.2"
  },
  "orig_nbformat": 4
 },
 "nbformat": 4,
 "nbformat_minor": 2
}
