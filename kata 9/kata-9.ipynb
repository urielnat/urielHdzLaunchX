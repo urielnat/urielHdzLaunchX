{
 "cells": [
  {
   "cell_type": "markdown",
   "metadata": {},
   "source": [
    "# Ejercicio 1: Trabajar con argumentos en funciones"
   ]
  },
  {
   "cell_type": "code",
   "execution_count": 7,
   "metadata": {},
   "outputs": [
    {
     "name": "stdout",
     "output_type": "stream",
     "text": [
      "20.0\n",
      "2.3333333333333335\n"
     ]
    }
   ],
   "source": [
    "def lecturaCompustible(tanque1,tanque2,tanque3):\n",
    "       ##return (tanque1+tanque2+tanque3)/3\n",
    "       return promedio(tanque1,tanque2,tanque3)\n",
    "\n",
    "\n",
    "print(lecturaCompustible(10,20,30))\n",
    "\n",
    "\n",
    "def promedio(*args):\n",
    "    total = sum(args)\n",
    "    return total/len(args)\n",
    "\n",
    "print(promedio(1,2,4))\n"
   ]
  },
  {
   "cell_type": "markdown",
   "metadata": {},
   "source": [
    "# Ejercicio 2: Trabajo con argumentos de palabra clave"
   ]
  },
  {
   "cell_type": "code",
   "execution_count": 48,
   "metadata": {},
   "outputs": [
    {
     "name": "stdout",
     "output_type": "stream",
     "text": [
      "Hora lanzamiento: 12 \n",
      "Tiempo de vuelo: 2 \n",
      "Destino: tierra\n",
      "tanque externo: 12\n",
      "tanque interno: 12\n",
      "\n",
      "\n",
      "********* parte 2 **********\n",
      "Tiempo de vuelo: 56\n",
      "Destino: marte \n",
      "tanque tanque_interno: 1000 galones\n",
      "tanque tanque_externo: 2000 galones\n",
      "resta un total de 3000 galones combustible\n"
     ]
    }
   ],
   "source": [
    "def informe(hora_lanzamiento, tiempo_de_vuelo, destino, tanque_externo , tanque_interno):\n",
    "     return f\"\"\"Hora lanzamiento: {hora_lanzamiento} \n",
    "Tiempo de vuelo: {tiempo_de_vuelo} \n",
    "Destino: {destino}\n",
    "tanque externo: {tanque_externo}\n",
    "tanque interno: {tanque_interno}\"\"\"\n",
    "\n",
    "print(informe(12,2,'tierra',12,12))\n",
    "print('\\n')\n",
    "print('********* parte 2 **********')\n",
    "\n",
    "def informe(destino ,*minutos,**suministro_tanques):\n",
    "     total=0\n",
    "     informe= f\"\"\"Tiempo de vuelo: {sum(minutos)}\n",
    "Destino: {destino} \\n\"\"\"\n",
    "\n",
    "     for key, value in suministro_tanques.items():\n",
    "        informe += f\"tanque {key}: {value} galones\\n\"\n",
    "        total +=value\n",
    "     informe +=f\"resta un total de {total} galones combustible\"\n",
    "     return informe\n",
    "\n",
    "print(informe('marte',12,44,tanque_interno=1000,tanque_externo=2000))\n",
    "\n"
   ]
  }
 ],
 "metadata": {
  "interpreter": {
   "hash": "aee8b7b246df8f9039afb4144a1f6fd8d2ca17a180786b69acc140d282b71a49"
  },
  "kernelspec": {
   "display_name": "Python 3.10.2 64-bit",
   "language": "python",
   "name": "python3"
  },
  "language_info": {
   "codemirror_mode": {
    "name": "ipython",
    "version": 3
   },
   "file_extension": ".py",
   "mimetype": "text/x-python",
   "name": "python",
   "nbconvert_exporter": "python",
   "pygments_lexer": "ipython3",
   "version": "3.10.2"
  },
  "orig_nbformat": 4
 },
 "nbformat": 4,
 "nbformat_minor": 2
}
