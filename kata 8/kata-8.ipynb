{
 "cells": [
  {
   "cell_type": "markdown",
   "metadata": {},
   "source": [
    "# Ejercicio 1: Creación de diccionarios de Python"
   ]
  },
  {
   "cell_type": "code",
   "execution_count": 3,
   "metadata": {},
   "outputs": [
    {
     "name": "stdout",
     "output_type": "stream",
     "text": [
      "El planeta Mars tiene 2 lunas\n",
      "la circunfenreica polar es de 6792 y la polar es 6752\n"
     ]
    }
   ],
   "source": [
    "planet ={\n",
    "    'name': 'Mars',\n",
    "    'moons': 2\n",
    "}\n",
    "\n",
    "print(f\"El planeta {planet['name']} tiene {planet.get('moons')} lunas\")\n",
    "\n",
    "\n",
    "planet.update({'circunferencia (km)':{\n",
    "    'polar': 6752    \n",
    "}})\n",
    "\n",
    "planet['circunferencia (km)']['equatorial'] = 6792\n",
    "\n",
    "\n",
    "print(f\"la circunfenreica polar es de {planet['circunferencia (km)']['equatorial']} y la polar es {planet.get('circunferencia (km)').get('polar')}\")\n",
    "\n",
    "\n"
   ]
  },
  {
   "cell_type": "markdown",
   "metadata": {},
   "source": [
    "# Ejercicio 2: Programación dinámica con diccionarios"
   ]
  },
  {
   "cell_type": "code",
   "execution_count": 10,
   "metadata": {},
   "outputs": [
    {
     "name": "stdout",
     "output_type": "stream",
     "text": [
      "total de lunas 214\n",
      "total de planetas 12\n",
      "promedio de lunas por planeta = 17.833333333333332\n"
     ]
    }
   ],
   "source": [
    "planet_moons = {\n",
    "    'mercury': 0,\n",
    "    'venus': 0,\n",
    "    'earth': 1,\n",
    "    'mars': 2,\n",
    "    'jupiter': 79,\n",
    "    'saturn': 82,\n",
    "    'uranus': 27,\n",
    "    'neptune': 14,\n",
    "    'pluto': 5,\n",
    "    'haumea': 2,\n",
    "    'makemake': 1,\n",
    "    'eris': 1\n",
    "}\n",
    "\n",
    "moons =0\n",
    "for value in planet_moons.values():\n",
    "     moons = moons + value\n",
    "\n",
    "print(f'total de lunas {moons}')\n",
    "\n",
    "\n",
    "planetas = len(planet_moons.keys())\n",
    "\n",
    "\n",
    "print(f'total de planetas {planetas}')\n",
    "\n",
    "\n",
    "print(f'promedio de lunas por planeta = {moons/planetas}')\n"
   ]
  }
 ],
 "metadata": {
  "interpreter": {
   "hash": "aee8b7b246df8f9039afb4144a1f6fd8d2ca17a180786b69acc140d282b71a49"
  },
  "kernelspec": {
   "display_name": "Python 3.10.2 64-bit",
   "language": "python",
   "name": "python3"
  },
  "language_info": {
   "codemirror_mode": {
    "name": "ipython",
    "version": 3
   },
   "file_extension": ".py",
   "mimetype": "text/x-python",
   "name": "python",
   "nbconvert_exporter": "python",
   "pygments_lexer": "ipython3",
   "version": "3.10.2"
  },
  "orig_nbformat": 4
 },
 "nbformat": 4,
 "nbformat_minor": 2
}
