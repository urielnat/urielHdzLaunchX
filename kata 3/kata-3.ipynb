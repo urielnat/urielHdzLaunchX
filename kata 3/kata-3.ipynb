{
 "cells": [
  {
   "cell_type": "markdown",
   "metadata": {},
   "source": [
    "# Escribir declaraciones if, else, y elif"
   ]
  },
  {
   "cell_type": "markdown",
   "metadata": {},
   "source": [
    "# Ejercicio 1"
   ]
  },
  {
   "cell_type": "code",
   "execution_count": 2,
   "metadata": {},
   "outputs": [
    {
     "name": "stdout",
     "output_type": "stream",
     "text": [
      "¡Peligro se aproxima un asteroide a una velicidad de 49Km/s!\n"
     ]
    }
   ],
   "source": [
    "velocidad_asteroide = 49\n",
    "if velocidad_asteroide > 25:\n",
    "    print('¡Peligro se aproxima un asteroide a una velicidad de '+str(velocidad_asteroide)+ 'Km/s!')\n",
    "else:\n",
    "    print('El asteriode no representa un peligro')\n",
    "\n"
   ]
  },
  {
   "cell_type": "markdown",
   "metadata": {},
   "source": [
    "# Ejercicio 2"
   ]
  },
  {
   "cell_type": "code",
   "execution_count": 3,
   "metadata": {},
   "outputs": [
    {
     "name": "stdout",
     "output_type": "stream",
     "text": [
      "Hay un asteroide en el cielo pero debido a su velocidad no es posible observarlo\n"
     ]
    }
   ],
   "source": [
    "velocidad_asteroide = 19\n",
    "if velocidad_asteroide >= 20:\n",
    "    print('Hay un asterioide en el cielo')\n",
    "else:\n",
    "    print('Hay un asteroide en el cielo pero debido a su velocidad no es posible observarlo')"
   ]
  },
  {
   "cell_type": "markdown",
   "metadata": {},
   "source": [
    "# Ejercicio 3"
   ]
  },
  {
   "cell_type": "code",
   "execution_count": 6,
   "metadata": {},
   "outputs": [
    {
     "name": "stdout",
     "output_type": "stream",
     "text": [
      "¡Peligro se aproxima un asteroide a una velicidad de 22Km/s de un tamaño de 30 metros\n"
     ]
    }
   ],
   "source": [
    "velocidad_asteroide = int(input('Ingrese la velocidad del asteroide'))\n",
    "tamano_asteroide = int(input('Ingrese el tamaño del asteroide'))\n",
    "if velocidad_asteroide > 25 or (tamano_asteroide>25 and tamano_asteroide<1000 ):\n",
    "    print('¡Peligro se aproxima un asteroide a una velicidad de '+str(velocidad_asteroide)+ 'Km/s de un tamaño de '+str(tamano_asteroide)+' metros')\n",
    "elif velocidad_asteroide >= 20 and tamano_asteroide<=25:\n",
    "    print('Hay un asterioide en el cielo y no representa un peligro')\n",
    "else:\n",
    "    print('Hay un asteroide en el cielo pero debido a su velocidad no es posible observarlo')"
   ]
  }
 ],
 "metadata": {
  "interpreter": {
   "hash": "aee8b7b246df8f9039afb4144a1f6fd8d2ca17a180786b69acc140d282b71a49"
  },
  "kernelspec": {
   "display_name": "Python 3.10.2 64-bit",
   "language": "python",
   "name": "python3"
  },
  "language_info": {
   "codemirror_mode": {
    "name": "ipython",
    "version": 3
   },
   "file_extension": ".py",
   "mimetype": "text/x-python",
   "name": "python",
   "nbconvert_exporter": "python",
   "pygments_lexer": "ipython3",
   "version": "3.10.2"
  },
  "orig_nbformat": 4
 },
 "nbformat": 4,
 "nbformat_minor": 2
}
