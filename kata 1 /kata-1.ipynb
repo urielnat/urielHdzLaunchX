{
 "cells": [
  {
   "cell_type": "markdown",
   "metadata": {},
   "source": [
    "# Mostrar la fecha"
   ]
  },
  {
   "cell_type": "code",
   "execution_count": 1,
   "metadata": {},
   "outputs": [
    {
     "name": "stdout",
     "output_type": "stream",
     "text": [
      "La fecha de hoy es: 2022-02-07\n"
     ]
    }
   ],
   "source": [
    "from datetime import date\n",
    "\n",
    "print('La fecha de hoy es: '+str(date.today()))"
   ]
  },
  {
   "cell_type": "markdown",
   "metadata": {},
   "source": [
    "# conversion parsec - años luz\n"
   ]
  },
  {
   "cell_type": "code",
   "execution_count": 10,
   "metadata": {},
   "outputs": [
    {
     "name": "stdout",
     "output_type": "stream",
     "text": [
      "1.- años luz a parsecs \n",
      "2.- parsecs a años luz\n",
      "la cantidad equivalente en parsecs es: 0.919803\n"
     ]
    }
   ],
   "source": [
    "print('1.- años luz a parsecs \\n2.- parsecs a años luz')\n",
    "opcion = int(input('introduzca la opcion (valor numérico): '))\n",
    "\n",
    "if (opcion ==1):\n",
    "    equivalente=3.26156\n",
    "    print('la cantidad equivalente en años luz es: '+str(float(input('introduzca la cantidad de parsecs: '))*equivalente))\n",
    "elif(opcion==2):\n",
    "    equivalente=0.306601\n",
    "    print('la cantidad equivalente en parsecs es: '+str(float(input('introduzca la cantidad de años luz: '))*equivalente))\n",
    "else:\n",
    "    print('opcion incorrecta')    \n"
   ]
  }
 ],
 "metadata": {
  "interpreter": {
   "hash": "aee8b7b246df8f9039afb4144a1f6fd8d2ca17a180786b69acc140d282b71a49"
  },
  "kernelspec": {
   "display_name": "Python 3.10.2 64-bit",
   "language": "python",
   "name": "python3"
  },
  "language_info": {
   "codemirror_mode": {
    "name": "ipython",
    "version": 3
   },
   "file_extension": ".py",
   "mimetype": "text/x-python",
   "name": "python",
   "nbconvert_exporter": "python",
   "pygments_lexer": "ipython3",
   "version": "3.10.2"
  },
  "orig_nbformat": 4
 },
 "nbformat": 4,
 "nbformat_minor": 2
}
